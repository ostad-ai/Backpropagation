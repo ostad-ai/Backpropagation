{
 "cells": [
  {
   "cell_type": "markdown",
   "id": "bd7dda0a",
   "metadata": {},
   "source": [
    "# Example of working with backpropagation\n",
    "- Use **from bp_pure import \\*** at the top of your code\n",
    "<br> https://github.com/ostad-ai/Backpropagation\n",
    "<br>https://www.pinterest.com/HamedShahHosseini/deep-learning/others"
   ]
  },
  {
   "cell_type": "code",
   "execution_count": 1,
   "id": "80968421",
   "metadata": {},
   "outputs": [],
   "source": [
    "import csv\n",
    "from bp_pure import *"
   ]
  },
  {
   "cell_type": "code",
   "execution_count": 2,
   "id": "9f68068f",
   "metadata": {},
   "outputs": [],
   "source": [
    "# read the iris dataset and separate (input,ouput) pairs\n",
    "filePath='./iris.csv'\n",
    "with open(filePath, newline='') as csvfile:\n",
    "    irisreader = csv.reader(csvfile, delimiter=',', quotechar='|')\n",
    "    line_number=0\n",
    "    xs,ys,header=[],[],''\n",
    "    for row in irisreader:\n",
    "        if line_number==0:\n",
    "            header=', '.join(row)\n",
    "        elif row:\n",
    "            xs.append([float(x) for x in row[:-1]])\n",
    "            y=row[-1].strip()\n",
    "            if y=='Iris-setosa':\n",
    "                ys.append([1.,0,0])            \n",
    "            elif y=='Iris-versicolor':\n",
    "                ys.append([0,1.,0])\n",
    "            elif y=='Iris-virginica':\n",
    "                ys.append([0,0,1.])\n",
    "        line_number+=1 "
   ]
  },
  {
   "cell_type": "code",
   "execution_count": 3,
   "id": "5480be17",
   "metadata": {},
   "outputs": [],
   "source": [
    "# we should not use all data for training\n",
    "# but this is just an example\n",
    "# getting an instance of BP from module bp_pure\n",
    "bp=BP()\n",
    "#train the bp with data randomly chosen\n",
    "for i in range(20000):\n",
    "    index=random.randrange(0,len(ys))\n",
    "    x,y=xs[index],ys[index]\n",
    "    bp.train_online(x,y)"
   ]
  },
  {
   "cell_type": "code",
   "execution_count": 4,
   "id": "4b190cd1",
   "metadata": {},
   "outputs": [
    {
     "name": "stdout",
     "output_type": "stream",
     "text": [
      "Accuracy of classification is: 0.98\n"
     ]
    }
   ],
   "source": [
    "# test the trained bp for classification of iris with whole data\n",
    "Ncorrects=0\n",
    "for i in range(len(ys)):\n",
    "    y=bp.forward(xs[i])\n",
    "    if y.index(max(y))==ys[i].index(max(ys[i])):\n",
    "        Ncorrects+=1\n",
    "accuracy=Ncorrects/len(ys)\n",
    "print(f'Accuracy of classification is: {accuracy}')"
   ]
  },
  {
   "cell_type": "code",
   "execution_count": null,
   "id": "74d9ec9c",
   "metadata": {},
   "outputs": [],
   "source": [
    "#-----save model into a pickle file\n",
    "# filePath='./bp_model.pkl'\n",
    "# save_model(bp,filePath)\n",
    "#--------------------------------\n",
    "#---laod model form a pickle file\n",
    "# filePath='./bp_model.pkl'\n",
    "# bp=load_model(filePath)"
   ]
  },
  {
   "cell_type": "code",
   "execution_count": null,
   "id": "36b09c24",
   "metadata": {},
   "outputs": [],
   "source": []
  }
 ],
 "metadata": {
  "kernelspec": {
   "display_name": "Python 3 (ipykernel)",
   "language": "python",
   "name": "python3"
  },
  "language_info": {
   "codemirror_mode": {
    "name": "ipython",
    "version": 3
   },
   "file_extension": ".py",
   "mimetype": "text/x-python",
   "name": "python",
   "nbconvert_exporter": "python",
   "pygments_lexer": "ipython3",
   "version": "3.11.1"
  }
 },
 "nbformat": 4,
 "nbformat_minor": 5
}
